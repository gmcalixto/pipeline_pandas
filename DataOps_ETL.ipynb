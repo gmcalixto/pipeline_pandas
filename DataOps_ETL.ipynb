{
  "nbformat": 4,
  "nbformat_minor": 0,
  "metadata": {
    "colab": {
      "provenance": [],
      "authorship_tag": "ABX9TyO58r2lhHwqeHHX/qMaaz7m",
      "include_colab_link": true
    },
    "kernelspec": {
      "name": "python3",
      "display_name": "Python 3"
    },
    "language_info": {
      "name": "python"
    }
  },
  "cells": [
    {
      "cell_type": "markdown",
      "metadata": {
        "id": "view-in-github",
        "colab_type": "text"
      },
      "source": [
        "<a href=\"https://colab.research.google.com/github/gmcalixto/pipeline_pandas/blob/main/DataOps_ETL.ipynb\" target=\"_parent\"><img src=\"https://colab.research.google.com/assets/colab-badge.svg\" alt=\"Open In Colab\"/></a>"
      ]
    },
    {
      "cell_type": "markdown",
      "source": [
        "## **Criando pipelines de processamento com o Pandas**"
      ],
      "metadata": {
        "id": "bZ9jiWFyLPYW"
      }
    },
    {
      "cell_type": "markdown",
      "source": [
        "Importando o arquivo para o Colab"
      ],
      "metadata": {
        "id": "YVBEZTCoFjU4"
      }
    },
    {
      "cell_type": "code",
      "execution_count": null,
      "metadata": {
        "id": "HVhaoPcWFKQC"
      },
      "outputs": [],
      "source": [
        "from google.colab import files\n",
        "\n",
        "file = files.upload()"
      ]
    },
    {
      "cell_type": "markdown",
      "source": [
        "Fazendo a carga do arquivo texto"
      ],
      "metadata": {
        "id": "j5JYd3Z2F23L"
      }
    },
    {
      "cell_type": "code",
      "source": [
        "import pandas as pd\n",
        "file = 'persons.csv'\n",
        "data = pd.read_csv(file)\n",
        "print(data.head())"
      ],
      "metadata": {
        "id": "HquTFRNJF1Ho"
      },
      "execution_count": null,
      "outputs": []
    },
    {
      "cell_type": "markdown",
      "source": [
        "Vamos extrair a contagem sobre gêneros por agrupamentos"
      ],
      "metadata": {
        "id": "Ht4DeNEOG7zP"
      }
    },
    {
      "cell_type": "code",
      "source": [
        "gender_counts = data['gender'].value_counts()\n",
        "gender_table = gender_counts.reset_index()\n",
        "gender_table.columns = ['gender', 'count']\n",
        "\n",
        "# Exibir a tabela resultante\n",
        "print(gender_table)"
      ],
      "metadata": {
        "id": "gFJqnmhRHFlQ"
      },
      "execution_count": null,
      "outputs": []
    },
    {
      "cell_type": "markdown",
      "source": [
        "Montando a média de anos de educação por gênero"
      ],
      "metadata": {
        "id": "vcTIXALfID7e"
      }
    },
    {
      "cell_type": "code",
      "source": [
        "gender_education_mean = data.groupby('gender')['years_of_education'].mean().reset_index()\n",
        "gender_education_mean.columns = ['gender', 'average_years_of_education']\n",
        "print(gender_education_mean)"
      ],
      "metadata": {
        "id": "HW5sdTvgIO-w"
      },
      "execution_count": null,
      "outputs": []
    },
    {
      "cell_type": "markdown",
      "source": [
        "Gerando o gráfico da distribuição de gênero"
      ],
      "metadata": {
        "id": "1oqdH5L3KKHk"
      }
    },
    {
      "cell_type": "code",
      "source": [
        "import matplotlib.pyplot as plt\n",
        "\n",
        "# Criar o gráfico de barras\n",
        "plt.figure(figsize=(10,6))\n",
        "gender_counts.plot(kind='bar', color='skyblue')\n",
        "\n",
        "# Adicionar título e rótulos aos eixos\n",
        "plt.title('Pessoas distribuiídas por gênero')\n",
        "plt.xlabel('Gênero')\n",
        "plt.ylabel('Quantidade')\n",
        "\n",
        "for index, value in enumerate(gender_counts):\n",
        "    plt.text(index, value, str(value), ha='center', va='bottom')\n",
        "\n",
        "# Exibir o gráfico\n",
        "plt.show()"
      ],
      "metadata": {
        "id": "TqJgT8BoKThJ"
      },
      "execution_count": null,
      "outputs": []
    },
    {
      "cell_type": "markdown",
      "source": [
        "Tarefa 1: Monte uma tabela do agrupamento das gerações e da quantidade de pessoas\n",
        "\n",
        "\n"
      ],
      "metadata": {
        "id": "pLi_l2fTMyyi"
      }
    },
    {
      "cell_type": "code",
      "source": [
        "#seu código aqui"
      ],
      "metadata": {
        "id": "sqJ0CmO3NbYH"
      },
      "execution_count": null,
      "outputs": []
    },
    {
      "cell_type": "markdown",
      "source": [
        "Tarefa 2: Monte uma tabela do agrupaento das estado atual de emprego e as quantidades de pessoas."
      ],
      "metadata": {
        "id": "JMjCzlDONfoh"
      }
    },
    {
      "cell_type": "code",
      "source": [
        "#seu código aqui"
      ],
      "metadata": {
        "id": "YCTwUpx6N7fe"
      },
      "execution_count": null,
      "outputs": []
    },
    {
      "cell_type": "markdown",
      "source": [
        "Tarefa 3: Gere o gráfico de barras da distribuição de gerações"
      ],
      "metadata": {
        "id": "M1w4T2C-OjIk"
      }
    },
    {
      "cell_type": "code",
      "source": [
        "#seu código aqui"
      ],
      "metadata": {
        "id": "C-k2lcFJOuUF"
      },
      "execution_count": null,
      "outputs": []
    },
    {
      "cell_type": "markdown",
      "source": [
        "Tarefa 4: Gere o gráfico de barras da distribuição do estado atual de emprego"
      ],
      "metadata": {
        "id": "49uSP2voO1Ak"
      }
    },
    {
      "cell_type": "code",
      "source": [
        "#seu código aqui"
      ],
      "metadata": {
        "id": "Ue67-R7qPKnX"
      },
      "execution_count": null,
      "outputs": []
    }
  ]
}