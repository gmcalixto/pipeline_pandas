{
  "nbformat": 4,
  "nbformat_minor": 0,
  "metadata": {
    "colab": {
      "provenance": [],
      "authorship_tag": "ABX9TyP+YJT8czBWyOv/E/wzADgo",
      "include_colab_link": true
    },
    "kernelspec": {
      "name": "python3",
      "display_name": "Python 3"
    },
    "language_info": {
      "name": "python"
    }
  },
  "cells": [
    {
      "cell_type": "markdown",
      "metadata": {
        "id": "view-in-github",
        "colab_type": "text"
      },
      "source": [
        "<a href=\"https://colab.research.google.com/github/gmcalixto/pipeline_pandas/blob/main/DataOps_ETL.ipynb\" target=\"_parent\"><img src=\"https://colab.research.google.com/assets/colab-badge.svg\" alt=\"Open In Colab\"/></a>"
      ]
    },
    {
      "cell_type": "markdown",
      "source": [
        "## **Criando pipelines de processamento com o Pandas**"
      ],
      "metadata": {
        "id": "bZ9jiWFyLPYW"
      }
    },
    {
      "cell_type": "markdown",
      "source": [
        "Importando o arquivo para o Colab"
      ],
      "metadata": {
        "id": "YVBEZTCoFjU4"
      }
    },
    {
      "cell_type": "code",
      "execution_count": null,
      "metadata": {
        "id": "HVhaoPcWFKQC"
      },
      "outputs": [],
      "source": [
        "from google.colab import files\n",
        "\n",
        "file = files.upload()"
      ]
    },
    {
      "cell_type": "markdown",
      "source": [
        "Fazendo a carga do arquivo texto"
      ],
      "metadata": {
        "id": "j5JYd3Z2F23L"
      }
    },
    {
      "cell_type": "code",
      "source": [
        "import pandas as pd\n",
        "file = 'persons.csv'\n",
        "data = pd.read_csv(file)\n",
        "print(data.head())"
      ],
      "metadata": {
        "id": "HquTFRNJF1Ho"
      },
      "execution_count": null,
      "outputs": []
    },
    {
      "cell_type": "markdown",
      "source": [
        "Vamos extrair a contagem sobre gêneros por agrupamentos"
      ],
      "metadata": {
        "id": "Ht4DeNEOG7zP"
      }
    },
    {
      "cell_type": "code",
      "source": [
        "gender_counts = data['gender'].value_counts()\n",
        "gender_table = gender_counts.reset_index()\n",
        "gender_table.columns = ['gender', 'count']\n",
        "\n",
        "# Exibir a tabela resultante\n",
        "print(gender_table)"
      ],
      "metadata": {
        "id": "gFJqnmhRHFlQ"
      },
      "execution_count": null,
      "outputs": []
    },
    {
      "cell_type": "markdown",
      "source": [
        "Montando a média de anos de educação por gênero"
      ],
      "metadata": {
        "id": "vcTIXALfID7e"
      }
    },
    {
      "cell_type": "code",
      "source": [
        "gender_education_mean = data.groupby('gender')['years_of_education'].mean().reset_index()\n",
        "gender_education_mean.columns = ['gender', 'average_years_of_education']\n",
        "print(gender_education_mean)"
      ],
      "metadata": {
        "id": "HW5sdTvgIO-w"
      },
      "execution_count": null,
      "outputs": []
    },
    {
      "cell_type": "markdown",
      "source": [
        "Gerando o gráfico da distribuição de gênero"
      ],
      "metadata": {
        "id": "1oqdH5L3KKHk"
      }
    },
    {
      "cell_type": "code",
      "source": [
        "import matplotlib.pyplot as plt\n",
        "\n",
        "# Criar o gráfico de barras\n",
        "plt.figure(figsize=(10,6))\n",
        "gender_counts.plot(kind='bar', color='skyblue')\n",
        "\n",
        "# Adicionar título e rótulos aos eixos\n",
        "plt.title('Pessoas distribuiídas por gênero')\n",
        "plt.xlabel('Gênero')\n",
        "plt.ylabel('Quantidade')\n",
        "\n",
        "for index, value in enumerate(gender_counts):\n",
        "    plt.text(index, value, str(value), ha='center', va='bottom')\n",
        "\n",
        "# Exibir o gráfico\n",
        "plt.show()"
      ],
      "metadata": {
        "id": "TqJgT8BoKThJ"
      },
      "execution_count": null,
      "outputs": []
    },
    {
      "cell_type": "markdown",
      "source": [
        "Tarefa 1: Monte uma tabela do agrupamento das gerações e da quantidade de pessoas\n",
        "\n",
        "\n"
      ],
      "metadata": {
        "id": "pLi_l2fTMyyi"
      }
    },
    {
      "cell_type": "code",
      "source": [
        "gen_counts = data['generation'].value_counts()\n",
        "gen_table = gen_counts.reset_index()\n",
        "gen_table.columns = ['generation', 'count']\n",
        "\n",
        "# Exibir a tabela resultante\n",
        "print(gen_table)"
      ],
      "metadata": {
        "id": "sqJ0CmO3NbYH"
      },
      "execution_count": null,
      "outputs": []
    },
    {
      "cell_type": "markdown",
      "source": [
        "Tarefa 2: Monte uma tabela do agrupaento das estado atual de emprego e as quantidades de pessoas."
      ],
      "metadata": {
        "id": "JMjCzlDONfoh"
      }
    },
    {
      "cell_type": "code",
      "source": [
        "job_counts = data['employment_status'].value_counts()\n",
        "job_table = job_counts.reset_index()\n",
        "job_table.columns = ['employment_status', 'count']\n",
        "\n",
        "# Exibir a tabela resultante\n",
        "print(job_table)"
      ],
      "metadata": {
        "id": "YCTwUpx6N7fe"
      },
      "execution_count": null,
      "outputs": []
    },
    {
      "cell_type": "markdown",
      "source": [
        "Tarefa 3: Gere o gráfico de barras da distribuição de gerações"
      ],
      "metadata": {
        "id": "M1w4T2C-OjIk"
      }
    },
    {
      "cell_type": "code",
      "source": [
        "# Criar o gráfico de barras\n",
        "plt.figure(figsize=(10,6))\n",
        "gen_counts.plot(kind='bar', color='green')\n",
        "\n",
        "# Adicionar título e rótulos aos eixos\n",
        "plt.title('Pessoas distribuiídas por geração')\n",
        "plt.xlabel('Geração')\n",
        "plt.ylabel('Quantidade')\n",
        "\n",
        "for index, value in enumerate(gen_counts):\n",
        "    plt.text(index, value, str(value), ha='center', va='bottom')\n",
        "\n",
        "# Exibir o gráfico\n",
        "plt.show()"
      ],
      "metadata": {
        "id": "C-k2lcFJOuUF"
      },
      "execution_count": null,
      "outputs": []
    },
    {
      "cell_type": "markdown",
      "source": [
        "Tarefa 4: Gere o gráfico de barras da distribuição do estado atual de emprego"
      ],
      "metadata": {
        "id": "49uSP2voO1Ak"
      }
    },
    {
      "cell_type": "code",
      "source": [
        "# Criar o gráfico de barras\n",
        "plt.figure(figsize=(10,6))\n",
        "job_counts.plot(kind='bar', color='cyan')\n",
        "\n",
        "# Adicionar título e rótulos aos eixos\n",
        "plt.title('Pessoas distribuiídas por estado atual de emprego')\n",
        "plt.xlabel('Estado atual de emprego')\n",
        "plt.ylabel('Quantidade')\n",
        "\n",
        "for index, value in enumerate(job_counts):\n",
        "    plt.text(index, value, str(value), ha='center', va='bottom')\n",
        "\n",
        "# Exibir o gráfico\n",
        "plt.show()"
      ],
      "metadata": {
        "id": "Ue67-R7qPKnX"
      },
      "execution_count": null,
      "outputs": []
    },
    {
      "cell_type": "markdown",
      "source": [
        "Vamos experimentar mais transformações que podem ser realizadas\n",
        "Distribuição entre Geração e Gênero"
      ],
      "metadata": {
        "id": "iI8nCXN_WHSr"
      }
    },
    {
      "cell_type": "code",
      "source": [
        "generation_gender_distribution = data.groupby(['generation', 'gender']).size().unstack()\n",
        "print(generation_gender_distribution)"
      ],
      "metadata": {
        "id": "xpQlo5uMWWoQ"
      },
      "execution_count": null,
      "outputs": []
    },
    {
      "cell_type": "markdown",
      "source": [
        "A média de anos de educação por gênero"
      ],
      "metadata": {
        "id": "JIYpOAQiWz7d"
      }
    },
    {
      "cell_type": "code",
      "source": [
        "generation_education_mean = data.groupby('generation')['years_of_education'].mean()\n",
        "print(generation_education_mean)"
      ],
      "metadata": {
        "id": "Hj2wNbwPW907"
      },
      "execution_count": null,
      "outputs": []
    },
    {
      "cell_type": "markdown",
      "source": [
        "Faixa Etária por Gênero"
      ],
      "metadata": {
        "id": "Z4mWoSYRXNSr"
      }
    },
    {
      "cell_type": "code",
      "source": [
        "# Criar faixas etárias\n",
        "data['age_group'] = pd.cut(data['age'], bins=[0, 18, 30, 45, 60, 100], labels=['0-18', '19-30', '31-45', '46-60', '61+'])\n",
        "\n",
        "# Contar o número de pessoas por gênero em cada faixa etária\n",
        "age_gender_distribution = data.groupby(['age_group', 'gender']).size().unstack()\n",
        "print(age_gender_distribution)"
      ],
      "metadata": {
        "id": "U5Mnwi2ZXSYV"
      },
      "execution_count": null,
      "outputs": []
    },
    {
      "cell_type": "markdown",
      "source": [
        "Percentual de Pessoas Empregadas por Gênero"
      ],
      "metadata": {
        "id": "WPvqjRdeXrX2"
      }
    },
    {
      "cell_type": "code",
      "source": [
        "employment_percentage_by_gender = data[data['employment_status'] == 'Employed']['gender'].value_counts(normalize=True) * 100\n",
        "print(employment_percentage_by_gender)"
      ],
      "metadata": {
        "id": "y3AHAOePXwqY"
      },
      "execution_count": null,
      "outputs": []
    },
    {
      "cell_type": "markdown",
      "source": [
        "Visualização Gráfica - Pizza de Distribuição de Gêneros"
      ],
      "metadata": {
        "id": "qh3-3YphYX5R"
      }
    },
    {
      "cell_type": "code",
      "source": [
        "data['gender'].value_counts().plot(kind='pie', autopct='%1.1f%%', figsize=(6,6))\n",
        "plt.title('Distribuição de Gêneros')\n",
        "plt.show()"
      ],
      "metadata": {
        "id": "HpnhQRN0Yjcg"
      },
      "execution_count": null,
      "outputs": []
    },
    {
      "cell_type": "markdown",
      "source": [
        "Gráfico de Barras da Educação por Gênero e Geração"
      ],
      "metadata": {
        "id": "DxtEWZEqYt5S"
      }
    },
    {
      "cell_type": "code",
      "source": [
        "education_by_generation_gender = data.groupby(['generation', 'gender'])['years_of_education'].mean().unstack()\n",
        "education_by_generation_gender.plot(kind='bar', figsize=(10,6))\n",
        "plt.title('Média de Anos de Educação por Gênero e Geração')\n",
        "plt.xlabel('Geração')\n",
        "plt.ylabel('Média de Anos de Educação')\n",
        "plt.show()"
      ],
      "metadata": {
        "id": "ADBxgVcKY0gj"
      },
      "execution_count": null,
      "outputs": []
    }
  ]
}